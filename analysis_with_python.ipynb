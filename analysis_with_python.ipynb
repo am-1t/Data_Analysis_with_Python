{
  "nbformat": 4,
  "nbformat_minor": 0,
  "metadata": {
    "colab": {
      "provenance": [],
      "authorship_tag": "ABX9TyP+M9s0s/nRGactiKbvDsbY",
      "include_colab_link": true
    },
    "kernelspec": {
      "name": "python3",
      "display_name": "Python 3"
    },
    "language_info": {
      "name": "python"
    }
  },
  "cells": [
    {
      "cell_type": "markdown",
      "metadata": {
        "id": "view-in-github",
        "colab_type": "text"
      },
      "source": [
        "<a href=\"https://colab.research.google.com/github/am-1t/Data_Analysis_with_Python/blob/main/analysis_with_python.ipynb\" target=\"_parent\"><img src=\"https://colab.research.google.com/assets/colab-badge.svg\" alt=\"Open In Colab\"/></a>"
      ]
    },
    {
      "cell_type": "code",
      "execution_count": 52,
      "metadata": {
        "id": "_USSuNLhZwHa"
      },
      "outputs": [],
      "source": [
        "import pandas as pd\n",
        "import numpy as np\n",
        "import matplotlib.pyplot as plt"
      ]
    },
    {
      "cell_type": "markdown",
      "source": [
        "Reading the dataset from URL and adding the necessary headers."
      ],
      "metadata": {
        "id": "pdNHgHXPk51X"
      }
    },
    {
      "cell_type": "code",
      "source": [
        "df = pd.read_csv(\"https://cf-courses-data.s3.us.cloud-object-storage.appdomain.cloud/IBMDeveloperSkillsNetwork-DA0101EN-SkillsNetwork/labs/Data%20files/auto.csv\")"
      ],
      "metadata": {
        "id": "lBYGXXBogsI5"
      },
      "execution_count": 53,
      "outputs": []
    },
    {
      "cell_type": "markdown",
      "source": [
        "Replace the column headers in the pandas dataframe with a python list containing name of headers."
      ],
      "metadata": {
        "id": "oEfXaH0MlEeW"
      }
    },
    {
      "cell_type": "code",
      "source": [
        "headers = [\"symboling\",\"normalized-losses\",\"make\",\"fuel-type\",\"aspiration\", \"num-of-doors\",\"body-style\",\n",
        "         \"drive-wheels\",\"engine-location\",\"wheel-base\", \"length\",\"width\",\"height\",\"curb-weight\",\"engine-type\",\n",
        "         \"num-of-cylinders\", \"engine-size\",\"fuel-system\",\"bore\",\"stroke\",\"compression-ratio\",\"horsepower\",\n",
        "         \"peak-rpm\",\"city-mpg\",\"highway-mpg\",\"price\"]\n",
        "df.columns = headers"
      ],
      "metadata": {
        "id": "ySA1RCQihIzN"
      },
      "execution_count": 54,
      "outputs": []
    },
    {
      "cell_type": "markdown",
      "source": [
        "**Evaluating for Missing Data:**\n",
        "Replacing the missing values in the dataset coming as '?' with the NaN(not a number) and finding the number of missing value in each columns. Replacing the missing values by their mean and dropping the rows where price is missing."
      ],
      "metadata": {
        "id": "SgaN7QJMlcHq"
      }
    },
    {
      "cell_type": "code",
      "source": [
        "df.replace('?', np.nan, inplace=True)\n",
        "\n",
        "for column in df.columns:\n",
        "    if df[column].isnull().sum() != 0:\n",
        "        print(f\"'{column}' has {df[column].isnull().sum()} missing values\")"
      ],
      "metadata": {
        "colab": {
          "base_uri": "https://localhost:8080/"
        },
        "id": "wPoRw1HEitTl",
        "outputId": "86df9b7a-24c5-42b9-a4ec-21067dfe4c4f"
      },
      "execution_count": 55,
      "outputs": [
        {
          "output_type": "stream",
          "name": "stdout",
          "text": [
            "'normalized-losses' has 40 missing values\n",
            "'num-of-doors' has 2 missing values\n",
            "'bore' has 4 missing values\n",
            "'stroke' has 4 missing values\n",
            "'horsepower' has 2 missing values\n",
            "'peak-rpm' has 2 missing values\n",
            "'price' has 4 missing values\n"
          ]
        }
      ]
    },
    {
      "cell_type": "code",
      "source": [
        "avg_norm_loss = df['normalized-losses'].astype(np.float32).mean(axis=0)\n",
        "df.replace({'normalized-losses': np.nan}, avg_norm_loss, inplace=True)"
      ],
      "metadata": {
        "id": "1HZ7QghImZ0k",
        "collapsed": true
      },
      "execution_count": 56,
      "outputs": []
    },
    {
      "cell_type": "code",
      "source": [
        "avg_bore = df['bore'].astype(np.float32).mean(axis=0)\n",
        "df.replace({'bore': np.nan}, avg_bore, inplace=True)"
      ],
      "metadata": {
        "collapsed": true,
        "id": "-Xi8NTGZbshp"
      },
      "execution_count": 57,
      "outputs": []
    },
    {
      "cell_type": "code",
      "source": [
        "avg_stroke = df['stroke'].astype(np.float32).mean(axis=0)\n",
        "df.replace({'stroke': np.nan}, avg_stroke, inplace=True)"
      ],
      "metadata": {
        "collapsed": true,
        "id": "Zas9t9WsdXrS"
      },
      "execution_count": 58,
      "outputs": []
    },
    {
      "cell_type": "code",
      "source": [
        "avg_hp = df['horsepower'].astype(np.float32).mean(axis=0)\n",
        "df.replace({'horsepower': np.nan}, avg_hp, inplace=True)"
      ],
      "metadata": {
        "id": "u1JmVfw7rAqH"
      },
      "execution_count": 59,
      "outputs": []
    },
    {
      "cell_type": "code",
      "source": [
        "avg_rpm = df['peak-rpm'].astype(np.float32).mean(axis=0)\n",
        "df.replace({'peak-rpm': np.nan}, avg_rpm, inplace=True)"
      ],
      "metadata": {
        "id": "mUSOI9zwxdUS"
      },
      "execution_count": 60,
      "outputs": []
    },
    {
      "cell_type": "code",
      "source": [
        "df.replace({'num-of-doors': np.nan}, 'four', inplace=True)"
      ],
      "metadata": {
        "id": "PHIMV_xWyyle"
      },
      "execution_count": 61,
      "outputs": []
    },
    {
      "cell_type": "code",
      "source": [
        "df.dropna(subset=['price'], axis=0, inplace=True)"
      ],
      "metadata": {
        "id": "o0VtQHvhzDkZ"
      },
      "execution_count": 62,
      "outputs": []
    },
    {
      "cell_type": "markdown",
      "source": [
        "**Correct Data Format:** Convert data types to proper format"
      ],
      "metadata": {
        "id": "W8XsYmk20_Wl"
      }
    },
    {
      "cell_type": "code",
      "source": [
        " df[['bore', 'stroke', 'price', 'peak-rpm', 'normalized-losses']] = df[['bore', 'stroke', 'price', 'peak-rpm', 'normalized-losses']].astype(np.float32)"
      ],
      "metadata": {
        "id": "iZ31wFPPz0gk"
      },
      "execution_count": 63,
      "outputs": []
    },
    {
      "cell_type": "markdown",
      "source": [
        "**Data Standardisation:** Standardization is the process of transforming data into a common format, allowing for meaningful comparisons.\n",
        "Transform mpg to L/100km"
      ],
      "metadata": {
        "id": "-HdFmHj2mV86"
      }
    },
    {
      "cell_type": "code",
      "source": [
        "df['city/L-100km'] = 235/df['city-mpg']"
      ],
      "metadata": {
        "id": "ve6FIGclmVcB"
      },
      "execution_count": 64,
      "outputs": []
    },
    {
      "cell_type": "markdown",
      "source": [
        "Transform the highway-mpg to highway-L/100km"
      ],
      "metadata": {
        "id": "Cz6mYe07nz3-"
      }
    },
    {
      "cell_type": "code",
      "source": [
        "df['highway-mpg'] = 235/df['highway-mpg']\n",
        "df.rename(columns={'highway-mpg': 'highway-L/100km'}, inplace=True)"
      ],
      "metadata": {
        "id": "4GGVkaKyp-br"
      },
      "execution_count": 65,
      "outputs": []
    },
    {
      "cell_type": "markdown",
      "source": [
        "**Data Normalization:** Transform values of several variable into similar range.\n",
        "Normalized the 'width', 'height', and 'length' into the value range from 0 to 1."
      ],
      "metadata": {
        "id": "EYLAooV2Ew71"
      }
    },
    {
      "cell_type": "code",
      "source": [
        "df['length'] /= df['length'].max()\n",
        "df['height'] /= df['height'].max()\n",
        "df['width'] /= df['width'].max()"
      ],
      "metadata": {
        "id": "nRKWanrqDE4O"
      },
      "execution_count": 66,
      "outputs": []
    },
    {
      "cell_type": "markdown",
      "source": [
        "Plot the distribution of the horsepower to see the distribution of horsepower\n"
      ],
      "metadata": {
        "id": "PW7Jz0atqidD"
      }
    },
    {
      "cell_type": "code",
      "source": [
        "plt.hist(df['horsepower'])\n",
        "plt.xlabel('Horsepower')\n",
        "plt.ylabel('No. of cars')\n",
        "plt.title('Horsepower Distribution')"
      ],
      "metadata": {
        "colab": {
          "base_uri": "https://localhost:8080/",
          "height": 490
        },
        "id": "4xmlAAhaqjVL",
        "outputId": "50e98815-48d8-4315-aaf8-dcb64006b334"
      },
      "execution_count": 75,
      "outputs": [
        {
          "output_type": "execute_result",
          "data": {
            "text/plain": [
              "Text(0.5, 1.0, 'Horsepower Distribution')"
            ]
          },
          "metadata": {},
          "execution_count": 75
        },
        {
          "output_type": "display_data",
          "data": {
            "text/plain": [
              "<Figure size 640x480 with 1 Axes>"
            ],
            "image/png": "[encoded data removed]"
          },
          "metadata": {}
        }
      ]
    },
    {
      "cell_type": "markdown",
      "source": [
        "**Binning:** Transforming continuous numerical variables into discrete categorical 'bins' for grouped analysis. Convert the horsepower into three segments viz High, Medium, and little horsepower."
      ],
      "metadata": {
        "id": "q3FWPqH0rOhH"
      }
    },
    {
      "cell_type": "code",
      "source": [
        "df['horsepower'] = df['horsepower'].astype(np.int32)\n",
        "bins = np.linspace(min(df['horsepower']), max(df['horsepower']), 4)\n",
        "bins_names = ['Low', 'Medium', 'High']\n",
        "df['horsepower-bin'] = pd.cut(df['horsepower'], bins, labels=bins_names, include_lowest=True )\n",
        "df['horsepower-bin'].value_counts()"
      ],
      "metadata": {
        "colab": {
          "base_uri": "https://localhost:8080/",
          "height": 210
        },
        "collapsed": true,
        "id": "OLDYjjvzGCqt",
        "outputId": "98ba895c-fcb5-48db-bb66-cddb54ffffb7"
      },
      "execution_count": 70,
      "outputs": [
        {
          "output_type": "execute_result",
          "data": {
            "text/plain": [
              "horsepower-bin\n",
              "Low       152\n",
              "Medium     43\n",
              "High        5\n",
              "Name: count, dtype: int64"
            ],
            "text/html": [
              "<div>\n",
              "<style scoped>\n",
              "    .dataframe tbody tr th:only-of-type {\n",
              "        vertical-align: middle;\n",
              "    }\n",
              "\n",
              "    .dataframe tbody tr th {\n",
              "        vertical-align: top;\n",
              "    }\n",
              "\n",
              "    .dataframe thead th {\n",
              "        text-align: right;\n",
              "    }\n",
              "</style>\n",
              "<table border=\"1\" class=\"dataframe\">\n",
              "  <thead>\n",
              "    <tr style=\"text-align: right;\">\n",
              "      <th></th>\n",
              "      <th>count</th>\n",
              "    </tr>\n",
              "    <tr>\n",
              "      <th>horsepower-bin</th>\n",
              "      <th></th>\n",
              "    </tr>\n",
              "  </thead>\n",
              "  <tbody>\n",
              "    <tr>\n",
              "      <th>Low</th>\n",
              "      <td>152</td>\n",
              "    </tr>\n",
              "    <tr>\n",
              "      <th>Medium</th>\n",
              "      <td>43</td>\n",
              "    </tr>\n",
              "    <tr>\n",
              "      <th>High</th>\n",
              "      <td>5</td>\n",
              "    </tr>\n",
              "  </tbody>\n",
              "</table>\n",
              "</div><br><label><b>dtype:</b> int64</label>"
            ]
          },
          "metadata": {},
          "execution_count": 70
        }
      ]
    },
    {
      "cell_type": "markdown",
      "source": [
        "Plot the distribution of the horsepower to see the distribution of horsepower after binning.\n"
      ],
      "metadata": {
        "id": "zSxKw7MQll3B"
      }
    },
    {
      "cell_type": "code",
      "source": [
        "plt.bar(bins_names, df['horsepower-bin'].value_counts())\n",
        "plt.xlabel('Horsepower')\n",
        "plt.ylabel('No. of cars')\n",
        "plt.title('Horsepower Distribution')"
      ],
      "metadata": {
        "colab": {
          "base_uri": "https://localhost:8080/",
          "height": 490
        },
        "id": "8kBUSakEGfLc",
        "outputId": "18f0804b-07f6-4fa0-d1a2-1590913bec20"
      },
      "execution_count": 71,
      "outputs": [
        {
          "output_type": "execute_result",
          "data": {
            "text/plain": [
              "Text(0.5, 1.0, 'Horsepower Distribution')"
            ]
          },
          "metadata": {},
          "execution_count": 71
        },
        {
          "output_type": "display_data",
          "data": {
            "text/plain": [
              "<Figure size 640x480 with 1 Axes>"
            ],
            "image/png": "[encoded data removed]"
          },
          "metadata": {}
        }
      ]
    },
    {
      "cell_type": "markdown",
      "source": [
        "**Indicator Variable:** An indicator variable (or dummy variable) is a numerical variable used to label categories. They are called 'dummies' because the numbers themselves don't have inherent meaning.\n",
        "\n",
        " We use indicator variables so you can use categorical variables for regression analysis as regression doesn't understand words, only numbers."
      ],
      "metadata": {
        "id": "XVFr-aW6s138"
      }
    },
    {
      "cell_type": "code",
      "source": [
        "dummy1 = pd.get_dummies(df['fuel-type'])\n",
        "dummy1.rename(columns={'gas': 'fuel-type-gas', 'diesel': 'fuel-type-diesel'}, inplace=True)\n",
        "df = pd.concat([df, dummy1], axis=1)\n",
        "df.drop('fuel-type', axis=1, inplace=True)"
      ],
      "metadata": {
        "collapsed": true,
        "id": "o3Z9bkY_s1Xe"
      },
      "execution_count": 72,
      "outputs": []
    },
    {
      "cell_type": "code",
      "source": [
        "dummy2 = pd.get_dummies(df['aspiration'])\n",
        "dummy2.rename(columns={'std': 'aspiration-std', 'turbo': 'aspiration-turbo'}, inplace=True)\n",
        "df = pd.concat([df, dummy2], axis=1)\n",
        "df.drop('aspiration', axis=1, inplace=True)"
      ],
      "metadata": {
        "id": "u_iguClk162r"
      },
      "execution_count": 73,
      "outputs": []
    },
    {
      "cell_type": "code",
      "source": [
        "df.head(10)"
      ],
      "metadata": {
        "colab": {
          "base_uri": "https://localhost:8080/",
          "height": 462
        },
        "id": "_UQZvpDyhMIq",
        "outputId": "b99a8214-975c-4fbf-d56f-a57bb50a7701"
      },
      "execution_count": 76,
      "outputs": [
        {
          "output_type": "execute_result",
          "data": {
            "text/plain": [
              "    symboling  normalized-losses         make num-of-doors   body-style  \\\n",
              "0           3              122.0  alfa-romero          two  convertible   \n",
              "1           1              122.0  alfa-romero          two    hatchback   \n",
              "2           2              164.0         audi         four        sedan   \n",
              "3           2              164.0         audi         four        sedan   \n",
              "4           2              122.0         audi          two        sedan   \n",
              "5           1              158.0         audi         four        sedan   \n",
              "6           1              122.0         audi         four        wagon   \n",
              "7           1              158.0         audi         four        sedan   \n",
              "9           2              192.0          bmw          two        sedan   \n",
              "10          0              192.0          bmw         four        sedan   \n",
              "\n",
              "   drive-wheels engine-location  wheel-base    length     width  ...  \\\n",
              "0           rwd           front        88.6  0.811148  0.890278  ...   \n",
              "1           rwd           front        94.5  0.822681  0.909722  ...   \n",
              "2           fwd           front        99.8  0.848630  0.919444  ...   \n",
              "3           4wd           front        99.4  0.848630  0.922222  ...   \n",
              "4           fwd           front        99.8  0.851994  0.920833  ...   \n",
              "5           fwd           front       105.8  0.925997  0.991667  ...   \n",
              "6           fwd           front       105.8  0.925997  0.991667  ...   \n",
              "7           fwd           front       105.8  0.925997  0.991667  ...   \n",
              "9           rwd           front       101.2  0.849592  0.900000  ...   \n",
              "10          rwd           front       101.2  0.849592  0.900000  ...   \n",
              "\n",
              "    peak-rpm  city-mpg highway-L/100km    price  city/L-100km horsepower-bin  \\\n",
              "0     5000.0        21        8.703704  16500.0     11.190476            Low   \n",
              "1     5000.0        19        9.038462  16500.0     12.368421         Medium   \n",
              "2     5500.0        24        7.833333  13950.0      9.791667            Low   \n",
              "3     5500.0        18       10.681818  17450.0     13.055556            Low   \n",
              "4     5500.0        19        9.400000  15250.0     12.368421            Low   \n",
              "5     5500.0        19        9.400000  17710.0     12.368421            Low   \n",
              "6     5500.0        19        9.400000  18920.0     12.368421            Low   \n",
              "7     5500.0        17       11.750000  23875.0     13.823529         Medium   \n",
              "9     5800.0        23        8.103448  16430.0     10.217391            Low   \n",
              "10    5800.0        23        8.103448  16925.0     10.217391            Low   \n",
              "\n",
              "    fuel-type-diesel  fuel-type-gas  aspiration-std  aspiration-turbo  \n",
              "0              False           True            True             False  \n",
              "1              False           True            True             False  \n",
              "2              False           True            True             False  \n",
              "3              False           True            True             False  \n",
              "4              False           True            True             False  \n",
              "5              False           True            True             False  \n",
              "6              False           True            True             False  \n",
              "7              False           True           False              True  \n",
              "9              False           True            True             False  \n",
              "10             False           True            True             False  \n",
              "\n",
              "[10 rows x 30 columns]"
            ],
            "text/html": [
              "\n",
              "  <div id=\"df-49c98d5f-6f0f-406f-be40-810825f5d8ac\" class=\"colab-df-container\">\n",
              "    <div>\n",
              "<style scoped>\n",
              "    .dataframe tbody tr th:only-of-type {\n",
              "        vertical-align: middle;\n",
              "    }\n",
              "\n",
              "    .dataframe tbody tr th {\n",
              "        vertical-align: top;\n",
              "    }\n",
              "\n",
              "    .dataframe thead th {\n",
              "        text-align: right;\n",
              "    }\n",
              "</style>\n",
              "<table border=\"1\" class=\"dataframe\">\n",
              "  <thead>\n",
              "    <tr style=\"text-align: right;\">\n",
              "      <th></th>\n",
              "      <th>symboling</th>\n",
              "      <th>normalized-losses</th>\n",
              "      <th>make</th>\n",
              "      <th>num-of-doors</th>\n",
              "      <th>body-style</th>\n",
              "      <th>drive-wheels</th>\n",
              "      <th>engine-location</th>\n",
              "      <th>wheel-base</th>\n",
              "      <th>length</th>\n",
              "      <th>width</th>\n",
              "      <th>...</th>\n",
              "      <th>peak-rpm</th>\n",
              "      <th>city-mpg</th>\n",
              "      <th>highway-L/100km</th>\n",
              "      <th>price</th>\n",
              "      <th>city/L-100km</th>\n",
              "      <th>horsepower-bin</th>\n",
              "      <th>fuel-type-diesel</th>\n",
              "      <th>fuel-type-gas</th>\n",
              "      <th>aspiration-std</th>\n",
              "      <th>aspiration-turbo</th>\n",
              "    </tr>\n",
              "  </thead>\n",
              "  <tbody>\n",
              "    <tr>\n",
              "      <th>0</th>\n",
              "      <td>3</td>\n",
              "      <td>122.0</td>\n",
              "      <td>alfa-romero</td>\n",
              "      <td>two</td>\n",
              "      <td>convertible</td>\n",
              "      <td>rwd</td>\n",
              "      <td>front</td>\n",
              "      <td>88.6</td>\n",
              "      <td>0.811148</td>\n",
              "      <td>0.890278</td>\n",
              "      <td>...</td>\n",
              "      <td>5000.0</td>\n",
              "      <td>21</td>\n",
              "      <td>8.703704</td>\n",
              "      <td>16500.0</td>\n",
              "      <td>11.190476</td>\n",
              "      <td>Low</td>\n",
              "      <td>False</td>\n",
              "      <td>True</td>\n",
              "      <td>True</td>\n",
              "      <td>False</td>\n",
              "    </tr>\n",
              "    <tr>\n",
              "      <th>1</th>\n",
              "      <td>1</td>\n",
              "      <td>122.0</td>\n",
              "      <td>alfa-romero</td>\n",
              "      <td>two</td>\n",
              "      <td>hatchback</td>\n",
              "      <td>rwd</td>\n",
              "      <td>front</td>\n",
              "      <td>94.5</td>\n",
              "      <td>0.822681</td>\n",
              "      <td>0.909722</td>\n",
              "      <td>...</td>\n",
              "      <td>5000.0</td>\n",
              "      <td>19</td>\n",
              "      <td>9.038462</td>\n",
              "      <td>16500.0</td>\n",
              "      <td>12.368421</td>\n",
              "      <td>Medium</td>\n",
              "      <td>False</td>\n",
              "      <td>True</td>\n",
              "      <td>True</td>\n",
              "      <td>False</td>\n",
              "    </tr>\n",
              "    <tr>\n",
              "      <th>2</th>\n",
              "      <td>2</td>\n",
              "      <td>164.0</td>\n",
              "      <td>audi</td>\n",
              "      <td>four</td>\n",
              "      <td>sedan</td>\n",
              "      <td>fwd</td>\n",
              "      <td>front</td>\n",
              "      <td>99.8</td>\n",
              "      <td>0.848630</td>\n",
              "      <td>0.919444</td>\n",
              "      <td>...</td>\n",
              "      <td>5500.0</td>\n",
              "      <td>24</td>\n",
              "      <td>7.833333</td>\n",
              "      <td>13950.0</td>\n",
              "      <td>9.791667</td>\n",
              "      <td>Low</td>\n",
              "      <td>False</td>\n",
              "      <td>True</td>\n",
              "      <td>True</td>\n",
              "      <td>False</td>\n",
              "    </tr>\n",
              "    <tr>\n",
              "      <th>3</th>\n",
              "      <td>2</td>\n",
              "      <td>164.0</td>\n",
              "      <td>audi</td>\n",
              "      <td>four</td>\n",
              "      <td>sedan</td>\n",
              "      <td>4wd</td>\n",
              "      <td>front</td>\n",
              "      <td>99.4</td>\n",
              "      <td>0.848630</td>\n",
              "      <td>0.922222</td>\n",
              "      <td>...</td>\n",
              "      <td>5500.0</td>\n",
              "      <td>18</td>\n",
              "      <td>10.681818</td>\n",
              "      <td>17450.0</td>\n",
              "      <td>13.055556</td>\n",
              "      <td>Low</td>\n",
              "      <td>False</td>\n",
              "      <td>True</td>\n",
              "      <td>True</td>\n",
              "      <td>False</td>\n",
              "    </tr>\n",
              "    <tr>\n",
              "      <th>4</th>\n",
              "      <td>2</td>\n",
              "      <td>122.0</td>\n",
              "      <td>audi</td>\n",
              "      <td>two</td>\n",
              "      <td>sedan</td>\n",
              "      <td>fwd</td>\n",
              "      <td>front</td>\n",
              "      <td>99.8</td>\n",
              "      <td>0.851994</td>\n",
              "      <td>0.920833</td>\n",
              "      <td>...</td>\n",
              "      <td>5500.0</td>\n",
              "      <td>19</td>\n",
              "      <td>9.400000</td>\n",
              "      <td>15250.0</td>\n",
              "      <td>12.368421</td>\n",
              "      <td>Low</td>\n",
              "      <td>False</td>\n",
              "      <td>True</td>\n",
              "      <td>True</td>\n",
              "      <td>False</td>\n",
              "    </tr>\n",
              "    <tr>\n",
              "      <th>5</th>\n",
              "      <td>1</td>\n",
              "      <td>158.0</td>\n",
              "      <td>audi</td>\n",
              "      <td>four</td>\n",
              "      <td>sedan</td>\n",
              "      <td>fwd</td>\n",
              "      <td>front</td>\n",
              "      <td>105.8</td>\n",
              "      <td>0.925997</td>\n",
              "      <td>0.991667</td>\n",
              "      <td>...</td>\n",
              "      <td>5500.0</td>\n",
              "      <td>19</td>\n",
              "      <td>9.400000</td>\n",
              "      <td>17710.0</td>\n",
              "      <td>12.368421</td>\n",
              "      <td>Low</td>\n",
              "      <td>False</td>\n",
              "      <td>True</td>\n",
              "      <td>True</td>\n",
              "      <td>False</td>\n",
              "    </tr>\n",
              "    <tr>\n",
              "      <th>6</th>\n",
              "      <td>1</td>\n",
              "      <td>122.0</td>\n",
              "      <td>audi</td>\n",
              "      <td>four</td>\n",
              "      <td>wagon</td>\n",
              "      <td>fwd</td>\n",
              "      <td>front</td>\n",
              "      <td>105.8</td>\n",
              "      <td>0.925997</td>\n",
              "      <td>0.991667</td>\n",
              "      <td>...</td>\n",
              "      <td>5500.0</td>\n",
              "      <td>19</td>\n",
              "      <td>9.400000</td>\n",
              "      <td>18920.0</td>\n",
              "      <td>12.368421</td>\n",
              "      <td>Low</td>\n",
              "      <td>False</td>\n",
              "      <td>True</td>\n",
              "      <td>True</td>\n",
              "      <td>False</td>\n",
              "    </tr>\n",
              "    <tr>\n",
              "      <th>7</th>\n",
              "      <td>1</td>\n",
              "      <td>158.0</td>\n",
              "      <td>audi</td>\n",
              "      <td>four</td>\n",
              "      <td>sedan</td>\n",
              "      <td>fwd</td>\n",
              "      <td>front</td>\n",
              "      <td>105.8</td>\n",
              "      <td>0.925997</td>\n",
              "      <td>0.991667</td>\n",
              "      <td>...</td>\n",
              "      <td>5500.0</td>\n",
              "      <td>17</td>\n",
              "      <td>11.750000</td>\n",
              "      <td>23875.0</td>\n",
              "      <td>13.823529</td>\n",
              "      <td>Medium</td>\n",
              "      <td>False</td>\n",
              "      <td>True</td>\n",
              "      <td>False</td>\n",
              "      <td>True</td>\n",
              "    </tr>\n",
              "    <tr>\n",
              "      <th>9</th>\n",
              "      <td>2</td>\n",
              "      <td>192.0</td>\n",
              "      <td>bmw</td>\n",
              "      <td>two</td>\n",
              "      <td>sedan</td>\n",
              "      <td>rwd</td>\n",
              "      <td>front</td>\n",
              "      <td>101.2</td>\n",
              "      <td>0.849592</td>\n",
              "      <td>0.900000</td>\n",
              "      <td>...</td>\n",
              "      <td>5800.0</td>\n",
              "      <td>23</td>\n",
              "      <td>8.103448</td>\n",
              "      <td>16430.0</td>\n",
              "      <td>10.217391</td>\n",
              "      <td>Low</td>\n",
              "      <td>False</td>\n",
              "      <td>True</td>\n",
              "      <td>True</td>\n",
              "      <td>False</td>\n",
              "    </tr>\n",
              "    <tr>\n",
              "      <th>10</th>\n",
              "      <td>0</td>\n",
              "      <td>192.0</td>\n",
              "      <td>bmw</td>\n",
              "      <td>four</td>\n",
              "      <td>sedan</td>\n",
              "      <td>rwd</td>\n",
              "      <td>front</td>\n",
              "      <td>101.2</td>\n",
              "      <td>0.849592</td>\n",
              "      <td>0.900000</td>\n",
              "      <td>...</td>\n",
              "      <td>5800.0</td>\n",
              "      <td>23</td>\n",
              "      <td>8.103448</td>\n",
              "      <td>16925.0</td>\n",
              "      <td>10.217391</td>\n",
              "      <td>Low</td>\n",
              "      <td>False</td>\n",
              "      <td>True</td>\n",
              "      <td>True</td>\n",
              "      <td>False</td>\n",
              "    </tr>\n",
              "  </tbody>\n",
              "</table>\n",
              "<p>10 rows × 30 columns</p>\n",
              "</div>\n",
              "    <div class=\"colab-df-buttons\">\n",
              "\n",
              "  <div class=\"colab-df-container\">\n",
              "    <button class=\"colab-df-convert\" onclick=\"convertToInteractive('df-49c98d5f-6f0f-406f-be40-810825f5d8ac')\"\n",
              "            title=\"Convert this dataframe to an interactive table.\"\n",
              "            style=\"display:none;\">\n",
              "\n",
              "  <svg xmlns=\"http://www.w3.org/2000/svg\" height=\"24px\" viewBox=\"0 -960 960 960\">\n",
              "    <path d=\"M120-120v-720h720v720H120Zm60-500h600v-160H180v160Zm220 220h160v-160H400v160Zm0 220h160v-160H400v160ZM180-400h160v-160H180v160Zm440 0h160v-160H620v160ZM180-180h160v-160H180v160Zm440 0h160v-160H620v160Z\"/>\n",
              "  </svg>\n",
              "    </button>\n",
              "\n",
              "  <style>\n",
              "    .colab-df-container {\n",
              "      display:flex;\n",
              "      gap: 12px;\n",
              "    }\n",
              "\n",
              "    .colab-df-convert {\n",
              "      background-color: #E8F0FE;\n",
              "      border: none;\n",
              "      border-radius: 50%;\n",
              "      cursor: pointer;\n",
              "      display: none;\n",
              "      fill: #1967D2;\n",
              "      height: 32px;\n",
              "      padding: 0 0 0 0;\n",
              "      width: 32px;\n",
              "    }\n",
              "\n",
              "    .colab-df-convert:hover {\n",
              "      background-color: #E2EBFA;\n",
              "      box-shadow: 0px 1px 2px rgba(60, 64, 67, 0.3), 0px 1px 3px 1px rgba(60, 64, 67, 0.15);\n",
              "      fill: #174EA6;\n",
              "    }\n",
              "\n",
              "    .colab-df-buttons div {\n",
              "      margin-bottom: 4px;\n",
              "    }\n",
              "\n",
              "    [theme=dark] .colab-df-convert {\n",
              "      background-color: #3B4455;\n",
              "      fill: #D2E3FC;\n",
              "    }\n",
              "\n",
              "    [theme=dark] .colab-df-convert:hover {\n",
              "      background-color: #434B5C;\n",
              "      box-shadow: 0px 1px 3px 1px rgba(0, 0, 0, 0.15);\n",
              "      filter: drop-shadow(0px 1px 2px rgba(0, 0, 0, 0.3));\n",
              "      fill: #FFFFFF;\n",
              "    }\n",
              "  </style>\n",
              "\n",
              "    <script>\n",
              "      const buttonEl =\n",
              "        document.querySelector('#df-49c98d5f-6f0f-406f-be40-810825f5d8ac button.colab-df-convert');\n",
              "      buttonEl.style.display =\n",
              "        google.colab.kernel.accessAllowed ? 'block' : 'none';\n",
              "\n",
              "      async function convertToInteractive(key) {\n",
              "        const element = document.querySelector('#df-49c98d5f-6f0f-406f-be40-810825f5d8ac');\n",
              "        const dataTable =\n",
              "          await google.colab.kernel.invokeFunction('convertToInteractive',\n",
              "                                                    [key], {});\n",
              "        if (!dataTable) return;\n",
              "\n",
              "        const docLinkHtml = 'Like what you see? Visit the ' +\n",
              "          '<a target=\"_blank\" href=https://colab.research.google.com/notebooks/data_table.ipynb>data table notebook</a>'\n",
              "          + ' to learn more about interactive tables.';\n",
              "        element.innerHTML = '';\n",
              "        dataTable['output_type'] = 'display_data';\n",
              "        await google.colab.output.renderOutput(dataTable, element);\n",
              "        const docLink = document.createElement('div');\n",
              "        docLink.innerHTML = docLinkHtml;\n",
              "        element.appendChild(docLink);\n",
              "      }\n",
              "    </script>\n",
              "  </div>\n",
              "\n",
              "\n",
              "<div id=\"df-d4da9135-f4ff-4ddc-afe1-0a4ce3cfc28a\">\n",
              "  <button class=\"colab-df-quickchart\" onclick=\"quickchart('df-d4da9135-f4ff-4ddc-afe1-0a4ce3cfc28a')\"\n",
              "            title=\"Suggest charts\"\n",
              "            style=\"display:none;\">\n",
              "\n",
              "<svg xmlns=\"http://www.w3.org/2000/svg\" height=\"24px\"viewBox=\"0 0 24 24\"\n",
              "     width=\"24px\">\n",
              "    <g>\n",
              "        <path d=\"M19 3H5c-1.1 0-2 .9-2 2v14c0 1.1.9 2 2 2h14c1.1 0 2-.9 2-2V5c0-1.1-.9-2-2-2zM9 17H7v-7h2v7zm4 0h-2V7h2v10zm4 0h-2v-4h2v4z\"/>\n",
              "    </g>\n",
              "</svg>\n",
              "  </button>\n",
              "\n",
              "<style>\n",
              "  .colab-df-quickchart {\n",
              "      --bg-color: #E8F0FE;\n",
              "      --fill-color: #1967D2;\n",
              "      --hover-bg-color: #E2EBFA;\n",
              "      --hover-fill-color: #174EA6;\n",
              "      --disabled-fill-color: #AAA;\n",
              "      --disabled-bg-color: #DDD;\n",
              "  }\n",
              "\n",
              "  [theme=dark] .colab-df-quickchart {\n",
              "      --bg-color: #3B4455;\n",
              "      --fill-color: #D2E3FC;\n",
              "      --hover-bg-color: #434B5C;\n",
              "      --hover-fill-color: #FFFFFF;\n",
              "      --disabled-bg-color: #3B4455;\n",
              "      --disabled-fill-color: #666;\n",
              "  }\n",
              "\n",
              "  .colab-df-quickchart {\n",
              "    background-color: var(--bg-color);\n",
              "    border: none;\n",
              "    border-radius: 50%;\n",
              "    cursor: pointer;\n",
              "    display: none;\n",
              "    fill: var(--fill-color);\n",
              "    height: 32px;\n",
              "    padding: 0;\n",
              "    width: 32px;\n",
              "  }\n",
              "\n",
              "  .colab-df-quickchart:hover {\n",
              "    background-color: var(--hover-bg-color);\n",
              "    box-shadow: 0 1px 2px rgba(60, 64, 67, 0.3), 0 1px 3px 1px rgba(60, 64, 67, 0.15);\n",
              "    fill: var(--button-hover-fill-color);\n",
              "  }\n",
              "\n",
              "  .colab-df-quickchart-complete:disabled,\n",
              "  .colab-df-quickchart-complete:disabled:hover {\n",
              "    background-color: var(--disabled-bg-color);\n",
              "    fill: var(--disabled-fill-color);\n",
              "    box-shadow: none;\n",
              "  }\n",
              "\n",
              "  .colab-df-spinner {\n",
              "    border: 2px solid var(--fill-color);\n",
              "    border-color: transparent;\n",
              "    border-bottom-color: var(--fill-color);\n",
              "    animation:\n",
              "      spin 1s steps(1) infinite;\n",
              "  }\n",
              "\n",
              "  @keyframes spin {\n",
              "    0% {\n",
              "      border-color: transparent;\n",
              "      border-bottom-color: var(--fill-color);\n",
              "      border-left-color: var(--fill-color);\n",
              "    }\n",
              "    20% {\n",
              "      border-color: transparent;\n",
              "      border-left-color: var(--fill-color);\n",
              "      border-top-color: var(--fill-color);\n",
              "    }\n",
              "    30% {\n",
              "      border-color: transparent;\n",
              "      border-left-color: var(--fill-color);\n",
              "      border-top-color: var(--fill-color);\n",
              "      border-right-color: var(--fill-color);\n",
              "    }\n",
              "    40% {\n",
              "      border-color: transparent;\n",
              "      border-right-color: var(--fill-color);\n",
              "      border-top-color: var(--fill-color);\n",
              "    }\n",
              "    60% {\n",
              "      border-color: transparent;\n",
              "      border-right-color: var(--fill-color);\n",
              "    }\n",
              "    80% {\n",
              "      border-color: transparent;\n",
              "      border-right-color: var(--fill-color);\n",
              "      border-bottom-color: var(--fill-color);\n",
              "    }\n",
              "    90% {\n",
              "      border-color: transparent;\n",
              "      border-bottom-color: var(--fill-color);\n",
              "    }\n",
              "  }\n",
              "</style>\n",
              "\n",
              "  <script>\n",
              "    async function quickchart(key) {\n",
              "      const quickchartButtonEl =\n",
              "        document.querySelector('#' + key + ' button');\n",
              "      quickchartButtonEl.disabled = true;  // To prevent multiple clicks.\n",
              "      quickchartButtonEl.classList.add('colab-df-spinner');\n",
              "      try {\n",
              "        const charts = await google.colab.kernel.invokeFunction(\n",
              "            'suggestCharts', [key], {});\n",
              "      } catch (error) {\n",
              "        console.error('Error during call to suggestCharts:', error);\n",
              "      }\n",
              "      quickchartButtonEl.classList.remove('colab-df-spinner');\n",
              "      quickchartButtonEl.classList.add('colab-df-quickchart-complete');\n",
              "    }\n",
              "    (() => {\n",
              "      let quickchartButtonEl =\n",
              "        document.querySelector('#df-d4da9135-f4ff-4ddc-afe1-0a4ce3cfc28a button');\n",
              "      quickchartButtonEl.style.display =\n",
              "        google.colab.kernel.accessAllowed ? 'block' : 'none';\n",
              "    })();\n",
              "  </script>\n",
              "</div>\n",
              "\n",
              "    </div>\n",
              "  </div>\n"
            ],
            "application/vnd.google.colaboratory.intrinsic+json": {
              "type": "dataframe",
              "variable_name": "df"
            }
          },
          "metadata": {},
          "execution_count": 76
        }
      ]
    }
  ]
}